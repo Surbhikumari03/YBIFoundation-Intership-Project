{
  "cells": [
    {
      "cell_type": "code",
      "execution_count": null,
      "id": "1ab87811",
      "metadata": {
        "_cell_guid": "b1076dfc-b9ad-4769-8c92-a6c4dae69d19",
        "_uuid": "8f2839f25d086af736a60e9eeb907d3b93b6e0e5",
        "execution": {
          "iopub.execute_input": "2023-07-16T14:52:59.171578Z",
          "iopub.status.busy": "2023-07-16T14:52:59.170634Z",
          "iopub.status.idle": "2023-07-16T14:52:59.183365Z",
          "shell.execute_reply": "2023-07-16T14:52:59.182505Z"
        },
        "papermill": {
          "duration": 0.029925,
          "end_time": "2023-07-16T14:52:59.185845",
          "exception": false,
          "start_time": "2023-07-16T14:52:59.155920",
          "status": "completed"
        },
        "tags": [],
        "id": "1ab87811"
      },
      "outputs": [],
      "source": [
        "\n",
        "import numpy as np # linear algebra\n",
        "import pandas as pd # data processing, CSV file I/O (e.g. pd.read_csv)\n",
        "\n",
        "# Input data files are available in the read-only \"../input/\" directory\n",
        "# For example, running this (by clicking run or pressing Shift+Enter) will list all files under the input directory\n",
        "\n",
        "import os\n",
        "for dirname, _, filenames in os.walk('/kaggle/input'):\n",
        "    for filename in filenames:\n",
        "        print(os.path.join(dirname, filename))\n",
        "\n",
        "# You can write up to 20GB to the current directory (/kaggle/working/) that gets preserved as output when you create a version using \"Save & Run All\"\n",
        "# You can also write temporary files to /kaggle/temp/, but they won't be saved outside of the current session"
      ]
    },
    {
      "cell_type": "markdown",
      "source": [
        "# **Women Cloth Reviews Prediction with Multi Nomial Naive Bayes**\n",
        "The multinomial naive bayes classifier is suitable for classification with discrete features(e.g., word counts for text classifciation).\n",
        "\n",
        "The Multinomial disturbution normally requires integer features counts. However, in pratice , fractional counts such as tf-idf may also work."
      ],
      "metadata": {
        "id": "jvTOg4stJC2W"
      },
      "id": "jvTOg4stJC2W"
    },
    {
      "cell_type": "markdown",
      "source": [
        "# **Import Library**"
      ],
      "metadata": {
        "id": "nQWNCBkWJlX7"
      },
      "id": "nQWNCBkWJlX7"
    },
    {
      "cell_type": "code",
      "execution_count": null,
      "id": "f76d6452",
      "metadata": {
        "execution": {
          "iopub.execute_input": "2023-07-16T14:52:59.213200Z",
          "iopub.status.busy": "2023-07-16T14:52:59.212828Z",
          "iopub.status.idle": "2023-07-16T14:52:59.217553Z",
          "shell.execute_reply": "2023-07-16T14:52:59.216552Z"
        },
        "papermill": {
          "duration": 0.020953,
          "end_time": "2023-07-16T14:52:59.219547",
          "exception": false,
          "start_time": "2023-07-16T14:52:59.198594",
          "status": "completed"
        },
        "tags": [],
        "id": "f76d6452"
      },
      "outputs": [],
      "source": [
        "#Women Cloth Reviews Prediction with Multi Nomial Naive Bayes\n",
        "\n",
        "import pandas as pd"
      ]
    },
    {
      "cell_type": "code",
      "execution_count": null,
      "id": "c72538de",
      "metadata": {
        "execution": {
          "iopub.execute_input": "2023-07-16T14:52:59.247832Z",
          "iopub.status.busy": "2023-07-16T14:52:59.247347Z",
          "iopub.status.idle": "2023-07-16T14:52:59.251495Z",
          "shell.execute_reply": "2023-07-16T14:52:59.250686Z"
        },
        "papermill": {
          "duration": 0.02042,
          "end_time": "2023-07-16T14:52:59.253645",
          "exception": false,
          "start_time": "2023-07-16T14:52:59.233225",
          "status": "completed"
        },
        "tags": [],
        "id": "c72538de"
      },
      "outputs": [],
      "source": [
        "import numpy as np"
      ]
    },
    {
      "cell_type": "code",
      "execution_count": null,
      "id": "d8819a8a",
      "metadata": {
        "execution": {
          "iopub.execute_input": "2023-07-16T14:52:59.281383Z",
          "iopub.status.busy": "2023-07-16T14:52:59.280717Z",
          "iopub.status.idle": "2023-07-16T14:52:59.284828Z",
          "shell.execute_reply": "2023-07-16T14:52:59.283897Z"
        },
        "papermill": {
          "duration": 0.020521,
          "end_time": "2023-07-16T14:52:59.287171",
          "exception": false,
          "start_time": "2023-07-16T14:52:59.266650",
          "status": "completed"
        },
        "tags": [],
        "id": "d8819a8a"
      },
      "outputs": [],
      "source": [
        "import matplotlib.pyplot as plt"
      ]
    },
    {
      "cell_type": "code",
      "execution_count": null,
      "id": "560e08ad",
      "metadata": {
        "execution": {
          "iopub.execute_input": "2023-07-16T14:52:59.313671Z",
          "iopub.status.busy": "2023-07-16T14:52:59.313226Z",
          "iopub.status.idle": "2023-07-16T14:53:00.665425Z",
          "shell.execute_reply": "2023-07-16T14:53:00.664475Z"
        },
        "papermill": {
          "duration": 1.368215,
          "end_time": "2023-07-16T14:53:00.667885",
          "exception": false,
          "start_time": "2023-07-16T14:52:59.299670",
          "status": "completed"
        },
        "tags": [],
        "id": "560e08ad"
      },
      "outputs": [],
      "source": [
        "import seaborn as sns"
      ]
    },
    {
      "cell_type": "markdown",
      "source": [
        "# **Import Dataset**"
      ],
      "metadata": {
        "id": "A-U4NcA3J8Kd"
      },
      "id": "A-U4NcA3J8Kd"
    },
    {
      "cell_type": "code",
      "execution_count": null,
      "id": "e3484c25",
      "metadata": {
        "execution": {
          "iopub.execute_input": "2023-07-16T14:53:00.696527Z",
          "iopub.status.busy": "2023-07-16T14:53:00.695867Z",
          "iopub.status.idle": "2023-07-16T14:53:02.443659Z",
          "shell.execute_reply": "2023-07-16T14:53:02.442797Z"
        },
        "papermill": {
          "duration": 1.764667,
          "end_time": "2023-07-16T14:53:02.445952",
          "exception": false,
          "start_time": "2023-07-16T14:53:00.681285",
          "status": "completed"
        },
        "tags": [],
        "id": "e3484c25"
      },
      "outputs": [],
      "source": [
        "df = pd.read_csv(\"https://github.com/YBIFoundation/ProjectHub-MachineLearning/raw/main/Women%20Clothing%20E-Commerce%20Review.csv\")"
      ]
    },
    {
      "cell_type": "code",
      "execution_count": null,
      "id": "a8d2b032",
      "metadata": {
        "execution": {
          "iopub.execute_input": "2023-07-16T14:53:02.473414Z",
          "iopub.status.busy": "2023-07-16T14:53:02.472782Z",
          "iopub.status.idle": "2023-07-16T14:53:02.495339Z",
          "shell.execute_reply": "2023-07-16T14:53:02.494252Z"
        },
        "papermill": {
          "duration": 0.039331,
          "end_time": "2023-07-16T14:53:02.497767",
          "exception": false,
          "start_time": "2023-07-16T14:53:02.458436",
          "status": "completed"
        },
        "tags": [],
        "colab": {
          "base_uri": "https://localhost:8080/",
          "height": 608
        },
        "id": "a8d2b032",
        "outputId": "e76ce8e0-deaf-497a-9ed6-fc6975384ba2"
      },
      "outputs": [
        {
          "output_type": "execute_result",
          "data": {
            "text/plain": [
              "   Clothing ID  Age                    Title  \\\n",
              "0          767   33                      NaN   \n",
              "1         1080   34                      NaN   \n",
              "2         1077   60  Some major design flaws   \n",
              "3         1049   50         My favorite buy!   \n",
              "4          847   47         Flattering shirt   \n",
              "\n",
              "                                              Review  Rating  Recommended  \\\n",
              "0  Absolutely wonderful - silky and sexy and comf...       4            1   \n",
              "1  Love this dress!  it's sooo pretty.  i happene...       5            1   \n",
              "2  I had such high hopes for this dress and reall...       3            0   \n",
              "3  I love, love, love this jumpsuit. it's fun, fl...       5            1   \n",
              "4  This shirt is very flattering to all due to th...       5            1   \n",
              "\n",
              "   Positive Feedback        Division Department   Category  \n",
              "0                  0       Initmates   Intimate  Intimates  \n",
              "1                  4         General    Dresses    Dresses  \n",
              "2                  0         General    Dresses    Dresses  \n",
              "3                  0  General Petite    Bottoms      Pants  \n",
              "4                  6         General       Tops    Blouses  "
            ],
            "text/html": [
              "\n",
              "  <div id=\"df-31aa44bb-16d3-4fd7-88cc-eee653a2a204\" class=\"colab-df-container\">\n",
              "    <div>\n",
              "<style scoped>\n",
              "    .dataframe tbody tr th:only-of-type {\n",
              "        vertical-align: middle;\n",
              "    }\n",
              "\n",
              "    .dataframe tbody tr th {\n",
              "        vertical-align: top;\n",
              "    }\n",
              "\n",
              "    .dataframe thead th {\n",
              "        text-align: right;\n",
              "    }\n",
              "</style>\n",
              "<table border=\"1\" class=\"dataframe\">\n",
              "  <thead>\n",
              "    <tr style=\"text-align: right;\">\n",
              "      <th></th>\n",
              "      <th>Clothing ID</th>\n",
              "      <th>Age</th>\n",
              "      <th>Title</th>\n",
              "      <th>Review</th>\n",
              "      <th>Rating</th>\n",
              "      <th>Recommended</th>\n",
              "      <th>Positive Feedback</th>\n",
              "      <th>Division</th>\n",
              "      <th>Department</th>\n",
              "      <th>Category</th>\n",
              "    </tr>\n",
              "  </thead>\n",
              "  <tbody>\n",
              "    <tr>\n",
              "      <th>0</th>\n",
              "      <td>767</td>\n",
              "      <td>33</td>\n",
              "      <td>NaN</td>\n",
              "      <td>Absolutely wonderful - silky and sexy and comf...</td>\n",
              "      <td>4</td>\n",
              "      <td>1</td>\n",
              "      <td>0</td>\n",
              "      <td>Initmates</td>\n",
              "      <td>Intimate</td>\n",
              "      <td>Intimates</td>\n",
              "    </tr>\n",
              "    <tr>\n",
              "      <th>1</th>\n",
              "      <td>1080</td>\n",
              "      <td>34</td>\n",
              "      <td>NaN</td>\n",
              "      <td>Love this dress!  it's sooo pretty.  i happene...</td>\n",
              "      <td>5</td>\n",
              "      <td>1</td>\n",
              "      <td>4</td>\n",
              "      <td>General</td>\n",
              "      <td>Dresses</td>\n",
              "      <td>Dresses</td>\n",
              "    </tr>\n",
              "    <tr>\n",
              "      <th>2</th>\n",
              "      <td>1077</td>\n",
              "      <td>60</td>\n",
              "      <td>Some major design flaws</td>\n",
              "      <td>I had such high hopes for this dress and reall...</td>\n",
              "      <td>3</td>\n",
              "      <td>0</td>\n",
              "      <td>0</td>\n",
              "      <td>General</td>\n",
              "      <td>Dresses</td>\n",
              "      <td>Dresses</td>\n",
              "    </tr>\n",
              "    <tr>\n",
              "      <th>3</th>\n",
              "      <td>1049</td>\n",
              "      <td>50</td>\n",
              "      <td>My favorite buy!</td>\n",
              "      <td>I love, love, love this jumpsuit. it's fun, fl...</td>\n",
              "      <td>5</td>\n",
              "      <td>1</td>\n",
              "      <td>0</td>\n",
              "      <td>General Petite</td>\n",
              "      <td>Bottoms</td>\n",
              "      <td>Pants</td>\n",
              "    </tr>\n",
              "    <tr>\n",
              "      <th>4</th>\n",
              "      <td>847</td>\n",
              "      <td>47</td>\n",
              "      <td>Flattering shirt</td>\n",
              "      <td>This shirt is very flattering to all due to th...</td>\n",
              "      <td>5</td>\n",
              "      <td>1</td>\n",
              "      <td>6</td>\n",
              "      <td>General</td>\n",
              "      <td>Tops</td>\n",
              "      <td>Blouses</td>\n",
              "    </tr>\n",
              "  </tbody>\n",
              "</table>\n",
              "</div>\n",
              "    <div class=\"colab-df-buttons\">\n",
              "\n",
              "  <div class=\"colab-df-container\">\n",
              "    <button class=\"colab-df-convert\" onclick=\"convertToInteractive('df-31aa44bb-16d3-4fd7-88cc-eee653a2a204')\"\n",
              "            title=\"Convert this dataframe to an interactive table.\"\n",
              "            style=\"display:none;\">\n",
              "\n",
              "  <svg xmlns=\"http://www.w3.org/2000/svg\" height=\"24px\" viewBox=\"0 -960 960 960\">\n",
              "    <path d=\"M120-120v-720h720v720H120Zm60-500h600v-160H180v160Zm220 220h160v-160H400v160Zm0 220h160v-160H400v160ZM180-400h160v-160H180v160Zm440 0h160v-160H620v160ZM180-180h160v-160H180v160Zm440 0h160v-160H620v160Z\"/>\n",
              "  </svg>\n",
              "    </button>\n",
              "\n",
              "  <style>\n",
              "    .colab-df-container {\n",
              "      display:flex;\n",
              "      gap: 12px;\n",
              "    }\n",
              "\n",
              "    .colab-df-convert {\n",
              "      background-color: #E8F0FE;\n",
              "      border: none;\n",
              "      border-radius: 50%;\n",
              "      cursor: pointer;\n",
              "      display: none;\n",
              "      fill: #1967D2;\n",
              "      height: 32px;\n",
              "      padding: 0 0 0 0;\n",
              "      width: 32px;\n",
              "    }\n",
              "\n",
              "    .colab-df-convert:hover {\n",
              "      background-color: #E2EBFA;\n",
              "      box-shadow: 0px 1px 2px rgba(60, 64, 67, 0.3), 0px 1px 3px 1px rgba(60, 64, 67, 0.15);\n",
              "      fill: #174EA6;\n",
              "    }\n",
              "\n",
              "    .colab-df-buttons div {\n",
              "      margin-bottom: 4px;\n",
              "    }\n",
              "\n",
              "    [theme=dark] .colab-df-convert {\n",
              "      background-color: #3B4455;\n",
              "      fill: #D2E3FC;\n",
              "    }\n",
              "\n",
              "    [theme=dark] .colab-df-convert:hover {\n",
              "      background-color: #434B5C;\n",
              "      box-shadow: 0px 1px 3px 1px rgba(0, 0, 0, 0.15);\n",
              "      filter: drop-shadow(0px 1px 2px rgba(0, 0, 0, 0.3));\n",
              "      fill: #FFFFFF;\n",
              "    }\n",
              "  </style>\n",
              "\n",
              "    <script>\n",
              "      const buttonEl =\n",
              "        document.querySelector('#df-31aa44bb-16d3-4fd7-88cc-eee653a2a204 button.colab-df-convert');\n",
              "      buttonEl.style.display =\n",
              "        google.colab.kernel.accessAllowed ? 'block' : 'none';\n",
              "\n",
              "      async function convertToInteractive(key) {\n",
              "        const element = document.querySelector('#df-31aa44bb-16d3-4fd7-88cc-eee653a2a204');\n",
              "        const dataTable =\n",
              "          await google.colab.kernel.invokeFunction('convertToInteractive',\n",
              "                                                    [key], {});\n",
              "        if (!dataTable) return;\n",
              "\n",
              "        const docLinkHtml = 'Like what you see? Visit the ' +\n",
              "          '<a target=\"_blank\" href=https://colab.research.google.com/notebooks/data_table.ipynb>data table notebook</a>'\n",
              "          + ' to learn more about interactive tables.';\n",
              "        element.innerHTML = '';\n",
              "        dataTable['output_type'] = 'display_data';\n",
              "        await google.colab.output.renderOutput(dataTable, element);\n",
              "        const docLink = document.createElement('div');\n",
              "        docLink.innerHTML = docLinkHtml;\n",
              "        element.appendChild(docLink);\n",
              "      }\n",
              "    </script>\n",
              "  </div>\n",
              "\n",
              "\n",
              "<div id=\"df-b24d26cf-9fc9-4edb-87c8-062129995309\">\n",
              "  <button class=\"colab-df-quickchart\" onclick=\"quickchart('df-b24d26cf-9fc9-4edb-87c8-062129995309')\"\n",
              "            title=\"Suggest charts\"\n",
              "            style=\"display:none;\">\n",
              "\n",
              "<svg xmlns=\"http://www.w3.org/2000/svg\" height=\"24px\"viewBox=\"0 0 24 24\"\n",
              "     width=\"24px\">\n",
              "    <g>\n",
              "        <path d=\"M19 3H5c-1.1 0-2 .9-2 2v14c0 1.1.9 2 2 2h14c1.1 0 2-.9 2-2V5c0-1.1-.9-2-2-2zM9 17H7v-7h2v7zm4 0h-2V7h2v10zm4 0h-2v-4h2v4z\"/>\n",
              "    </g>\n",
              "</svg>\n",
              "  </button>\n",
              "\n",
              "<style>\n",
              "  .colab-df-quickchart {\n",
              "      --bg-color: #E8F0FE;\n",
              "      --fill-color: #1967D2;\n",
              "      --hover-bg-color: #E2EBFA;\n",
              "      --hover-fill-color: #174EA6;\n",
              "      --disabled-fill-color: #AAA;\n",
              "      --disabled-bg-color: #DDD;\n",
              "  }\n",
              "\n",
              "  [theme=dark] .colab-df-quickchart {\n",
              "      --bg-color: #3B4455;\n",
              "      --fill-color: #D2E3FC;\n",
              "      --hover-bg-color: #434B5C;\n",
              "      --hover-fill-color: #FFFFFF;\n",
              "      --disabled-bg-color: #3B4455;\n",
              "      --disabled-fill-color: #666;\n",
              "  }\n",
              "\n",
              "  .colab-df-quickchart {\n",
              "    background-color: var(--bg-color);\n",
              "    border: none;\n",
              "    border-radius: 50%;\n",
              "    cursor: pointer;\n",
              "    display: none;\n",
              "    fill: var(--fill-color);\n",
              "    height: 32px;\n",
              "    padding: 0;\n",
              "    width: 32px;\n",
              "  }\n",
              "\n",
              "  .colab-df-quickchart:hover {\n",
              "    background-color: var(--hover-bg-color);\n",
              "    box-shadow: 0 1px 2px rgba(60, 64, 67, 0.3), 0 1px 3px 1px rgba(60, 64, 67, 0.15);\n",
              "    fill: var(--button-hover-fill-color);\n",
              "  }\n",
              "\n",
              "  .colab-df-quickchart-complete:disabled,\n",
              "  .colab-df-quickchart-complete:disabled:hover {\n",
              "    background-color: var(--disabled-bg-color);\n",
              "    fill: var(--disabled-fill-color);\n",
              "    box-shadow: none;\n",
              "  }\n",
              "\n",
              "  .colab-df-spinner {\n",
              "    border: 2px solid var(--fill-color);\n",
              "    border-color: transparent;\n",
              "    border-bottom-color: var(--fill-color);\n",
              "    animation:\n",
              "      spin 1s steps(1) infinite;\n",
              "  }\n",
              "\n",
              "  @keyframes spin {\n",
              "    0% {\n",
              "      border-color: transparent;\n",
              "      border-bottom-color: var(--fill-color);\n",
              "      border-left-color: var(--fill-color);\n",
              "    }\n",
              "    20% {\n",
              "      border-color: transparent;\n",
              "      border-left-color: var(--fill-color);\n",
              "      border-top-color: var(--fill-color);\n",
              "    }\n",
              "    30% {\n",
              "      border-color: transparent;\n",
              "      border-left-color: var(--fill-color);\n",
              "      border-top-color: var(--fill-color);\n",
              "      border-right-color: var(--fill-color);\n",
              "    }\n",
              "    40% {\n",
              "      border-color: transparent;\n",
              "      border-right-color: var(--fill-color);\n",
              "      border-top-color: var(--fill-color);\n",
              "    }\n",
              "    60% {\n",
              "      border-color: transparent;\n",
              "      border-right-color: var(--fill-color);\n",
              "    }\n",
              "    80% {\n",
              "      border-color: transparent;\n",
              "      border-right-color: var(--fill-color);\n",
              "      border-bottom-color: var(--fill-color);\n",
              "    }\n",
              "    90% {\n",
              "      border-color: transparent;\n",
              "      border-bottom-color: var(--fill-color);\n",
              "    }\n",
              "  }\n",
              "</style>\n",
              "\n",
              "  <script>\n",
              "    async function quickchart(key) {\n",
              "      const quickchartButtonEl =\n",
              "        document.querySelector('#' + key + ' button');\n",
              "      quickchartButtonEl.disabled = true;  // To prevent multiple clicks.\n",
              "      quickchartButtonEl.classList.add('colab-df-spinner');\n",
              "      try {\n",
              "        const charts = await google.colab.kernel.invokeFunction(\n",
              "            'suggestCharts', [key], {});\n",
              "      } catch (error) {\n",
              "        console.error('Error during call to suggestCharts:', error);\n",
              "      }\n",
              "      quickchartButtonEl.classList.remove('colab-df-spinner');\n",
              "      quickchartButtonEl.classList.add('colab-df-quickchart-complete');\n",
              "    }\n",
              "    (() => {\n",
              "      let quickchartButtonEl =\n",
              "        document.querySelector('#df-b24d26cf-9fc9-4edb-87c8-062129995309 button');\n",
              "      quickchartButtonEl.style.display =\n",
              "        google.colab.kernel.accessAllowed ? 'block' : 'none';\n",
              "    })();\n",
              "  </script>\n",
              "</div>\n",
              "    </div>\n",
              "  </div>\n"
            ]
          },
          "metadata": {},
          "execution_count": 7
        }
      ],
      "source": [
        "df.head()"
      ]
    },
    {
      "cell_type": "code",
      "execution_count": null,
      "id": "a3d5cc26",
      "metadata": {
        "execution": {
          "iopub.execute_input": "2023-07-16T14:53:02.525359Z",
          "iopub.status.busy": "2023-07-16T14:53:02.524603Z",
          "iopub.status.idle": "2023-07-16T14:53:02.570482Z",
          "shell.execute_reply": "2023-07-16T14:53:02.568587Z"
        },
        "papermill": {
          "duration": 0.062464,
          "end_time": "2023-07-16T14:53:02.572932",
          "exception": false,
          "start_time": "2023-07-16T14:53:02.510468",
          "status": "completed"
        },
        "tags": [],
        "colab": {
          "base_uri": "https://localhost:8080/"
        },
        "id": "a3d5cc26",
        "outputId": "92235cd5-b917-4df5-9b65-6c7fc6da9b6b"
      },
      "outputs": [
        {
          "output_type": "stream",
          "name": "stdout",
          "text": [
            "<class 'pandas.core.frame.DataFrame'>\n",
            "RangeIndex: 23486 entries, 0 to 23485\n",
            "Data columns (total 10 columns):\n",
            " #   Column             Non-Null Count  Dtype \n",
            "---  ------             --------------  ----- \n",
            " 0   Clothing ID        23486 non-null  int64 \n",
            " 1   Age                23486 non-null  int64 \n",
            " 2   Title              19676 non-null  object\n",
            " 3   Review             22641 non-null  object\n",
            " 4   Rating             23486 non-null  int64 \n",
            " 5   Recommended        23486 non-null  int64 \n",
            " 6   Positive Feedback  23486 non-null  int64 \n",
            " 7   Division           23472 non-null  object\n",
            " 8   Department         23472 non-null  object\n",
            " 9   Category           23472 non-null  object\n",
            "dtypes: int64(5), object(5)\n",
            "memory usage: 1.8+ MB\n"
          ]
        }
      ],
      "source": [
        "df.info()"
      ]
    },
    {
      "cell_type": "code",
      "execution_count": null,
      "id": "c670764e",
      "metadata": {
        "execution": {
          "iopub.execute_input": "2023-07-16T14:53:02.601384Z",
          "iopub.status.busy": "2023-07-16T14:53:02.600998Z",
          "iopub.status.idle": "2023-07-16T14:53:02.616579Z",
          "shell.execute_reply": "2023-07-16T14:53:02.615770Z"
        },
        "papermill": {
          "duration": 0.032108,
          "end_time": "2023-07-16T14:53:02.618548",
          "exception": false,
          "start_time": "2023-07-16T14:53:02.586440",
          "status": "completed"
        },
        "tags": [],
        "colab": {
          "base_uri": "https://localhost:8080/"
        },
        "id": "c670764e",
        "outputId": "58305bfc-432b-41bb-c853-f79f5a27d2aa"
      },
      "outputs": [
        {
          "output_type": "execute_result",
          "data": {
            "text/plain": [
              "<bound method NDFrame.describe of        Clothing ID  Age                                              Title  \\\n",
              "0              767   33                                                NaN   \n",
              "1             1080   34                                                NaN   \n",
              "2             1077   60                            Some major design flaws   \n",
              "3             1049   50                                   My favorite buy!   \n",
              "4              847   47                                   Flattering shirt   \n",
              "...            ...  ...                                                ...   \n",
              "23481         1104   34                     Great dress for many occasions   \n",
              "23482          862   48                         Wish it was made of cotton   \n",
              "23483         1104   31                              Cute, but see through   \n",
              "23484         1084   28  Very cute dress, perfect for summer parties an...   \n",
              "23485         1104   52                    Please make more like this one!   \n",
              "\n",
              "                                                  Review  Rating  Recommended  \\\n",
              "0      Absolutely wonderful - silky and sexy and comf...       4            1   \n",
              "1      Love this dress!  it's sooo pretty.  i happene...       5            1   \n",
              "2      I had such high hopes for this dress and reall...       3            0   \n",
              "3      I love, love, love this jumpsuit. it's fun, fl...       5            1   \n",
              "4      This shirt is very flattering to all due to th...       5            1   \n",
              "...                                                  ...     ...          ...   \n",
              "23481  I was very happy to snag this dress at such a ...       5            1   \n",
              "23482  It reminds me of maternity clothes. soft, stre...       3            1   \n",
              "23483  This fit well, but the top was very see throug...       3            0   \n",
              "23484  I bought this dress for a wedding i have this ...       3            1   \n",
              "23485  This dress in a lovely platinum is feminine an...       5            1   \n",
              "\n",
              "       Positive Feedback        Division Department   Category  \n",
              "0                      0       Initmates   Intimate  Intimates  \n",
              "1                      4         General    Dresses    Dresses  \n",
              "2                      0         General    Dresses    Dresses  \n",
              "3                      0  General Petite    Bottoms      Pants  \n",
              "4                      6         General       Tops    Blouses  \n",
              "...                  ...             ...        ...        ...  \n",
              "23481                  0  General Petite    Dresses    Dresses  \n",
              "23482                  0  General Petite       Tops      Knits  \n",
              "23483                  1  General Petite    Dresses    Dresses  \n",
              "23484                  2         General    Dresses    Dresses  \n",
              "23485                 22  General Petite    Dresses    Dresses  \n",
              "\n",
              "[23486 rows x 10 columns]>"
            ]
          },
          "metadata": {},
          "execution_count": 9
        }
      ],
      "source": [
        "df.describe"
      ]
    },
    {
      "cell_type": "code",
      "execution_count": null,
      "id": "cbf6b3ad",
      "metadata": {
        "execution": {
          "iopub.execute_input": "2023-07-16T14:53:02.647347Z",
          "iopub.status.busy": "2023-07-16T14:53:02.646676Z",
          "iopub.status.idle": "2023-07-16T14:53:02.653379Z",
          "shell.execute_reply": "2023-07-16T14:53:02.652176Z"
        },
        "papermill": {
          "duration": 0.024157,
          "end_time": "2023-07-16T14:53:02.655782",
          "exception": false,
          "start_time": "2023-07-16T14:53:02.631625",
          "status": "completed"
        },
        "tags": [],
        "colab": {
          "base_uri": "https://localhost:8080/"
        },
        "id": "cbf6b3ad",
        "outputId": "c55a3516-d54e-4ea7-db0f-af5609eeb7c5"
      },
      "outputs": [
        {
          "output_type": "execute_result",
          "data": {
            "text/plain": [
              "(23486, 10)"
            ]
          },
          "metadata": {},
          "execution_count": 10
        }
      ],
      "source": [
        "df.shape"
      ]
    },
    {
      "cell_type": "markdown",
      "source": [
        "# **Missing Values**"
      ],
      "metadata": {
        "id": "dsw1FfCjKDli"
      },
      "id": "dsw1FfCjKDli"
    },
    {
      "cell_type": "code",
      "execution_count": null,
      "id": "f5e6b5e7",
      "metadata": {
        "execution": {
          "iopub.execute_input": "2023-07-16T14:53:02.684198Z",
          "iopub.status.busy": "2023-07-16T14:53:02.683407Z",
          "iopub.status.idle": "2023-07-16T14:53:02.711204Z",
          "shell.execute_reply": "2023-07-16T14:53:02.710165Z"
        },
        "papermill": {
          "duration": 0.044555,
          "end_time": "2023-07-16T14:53:02.713487",
          "exception": false,
          "start_time": "2023-07-16T14:53:02.668932",
          "status": "completed"
        },
        "tags": [],
        "colab": {
          "base_uri": "https://localhost:8080/"
        },
        "id": "f5e6b5e7",
        "outputId": "4070b55d-acd2-4581-d1ad-79da09e924b3"
      },
      "outputs": [
        {
          "output_type": "execute_result",
          "data": {
            "text/plain": [
              "Clothing ID             0\n",
              "Age                     0\n",
              "Title                3810\n",
              "Review                845\n",
              "Rating                  0\n",
              "Recommended             0\n",
              "Positive Feedback       0\n",
              "Division               14\n",
              "Department             14\n",
              "Category               14\n",
              "dtype: int64"
            ]
          },
          "metadata": {},
          "execution_count": 11
        }
      ],
      "source": [
        "df.isna().sum()"
      ]
    },
    {
      "cell_type": "code",
      "execution_count": null,
      "id": "b1053712",
      "metadata": {
        "execution": {
          "iopub.execute_input": "2023-07-16T14:53:02.742014Z",
          "iopub.status.busy": "2023-07-16T14:53:02.741052Z",
          "iopub.status.idle": "2023-07-16T14:53:02.753646Z",
          "shell.execute_reply": "2023-07-16T14:53:02.752315Z"
        },
        "papermill": {
          "duration": 0.029575,
          "end_time": "2023-07-16T14:53:02.756315",
          "exception": false,
          "start_time": "2023-07-16T14:53:02.726740",
          "status": "completed"
        },
        "tags": [],
        "id": "b1053712"
      },
      "outputs": [],
      "source": [
        "df[df['Review']==\"\"]= np.NaN"
      ]
    },
    {
      "cell_type": "code",
      "execution_count": null,
      "id": "0186cae3",
      "metadata": {
        "execution": {
          "iopub.execute_input": "2023-07-16T14:53:02.785735Z",
          "iopub.status.busy": "2023-07-16T14:53:02.784987Z",
          "iopub.status.idle": "2023-07-16T14:53:02.794620Z",
          "shell.execute_reply": "2023-07-16T14:53:02.793629Z"
        },
        "papermill": {
          "duration": 0.027367,
          "end_time": "2023-07-16T14:53:02.797027",
          "exception": false,
          "start_time": "2023-07-16T14:53:02.769660",
          "status": "completed"
        },
        "tags": [],
        "id": "0186cae3"
      },
      "outputs": [],
      "source": [
        "df['Review'].fillna(\"No Review\", inplace = True)"
      ]
    },
    {
      "cell_type": "code",
      "execution_count": null,
      "id": "c9541fc5",
      "metadata": {
        "execution": {
          "iopub.execute_input": "2023-07-16T14:53:02.825038Z",
          "iopub.status.busy": "2023-07-16T14:53:02.824645Z",
          "iopub.status.idle": "2023-07-16T14:53:02.854159Z",
          "shell.execute_reply": "2023-07-16T14:53:02.852936Z"
        },
        "papermill": {
          "duration": 0.045879,
          "end_time": "2023-07-16T14:53:02.856150",
          "exception": false,
          "start_time": "2023-07-16T14:53:02.810271",
          "status": "completed"
        },
        "tags": [],
        "colab": {
          "base_uri": "https://localhost:8080/"
        },
        "id": "c9541fc5",
        "outputId": "1968d4ae-926c-408a-eb30-5fb94e0bf78f"
      },
      "outputs": [
        {
          "output_type": "execute_result",
          "data": {
            "text/plain": [
              "Clothing ID             0\n",
              "Age                     0\n",
              "Title                3810\n",
              "Review                  0\n",
              "Rating                  0\n",
              "Recommended             0\n",
              "Positive Feedback       0\n",
              "Division               14\n",
              "Department             14\n",
              "Category               14\n",
              "dtype: int64"
            ]
          },
          "metadata": {},
          "execution_count": 14
        }
      ],
      "source": [
        "df.isna().sum()"
      ]
    },
    {
      "cell_type": "code",
      "execution_count": null,
      "id": "f516f89f",
      "metadata": {
        "execution": {
          "iopub.execute_input": "2023-07-16T14:53:02.885180Z",
          "iopub.status.busy": "2023-07-16T14:53:02.884031Z",
          "iopub.status.idle": "2023-07-16T14:53:02.892644Z",
          "shell.execute_reply": "2023-07-16T14:53:02.891603Z"
        },
        "papermill": {
          "duration": 0.025098,
          "end_time": "2023-07-16T14:53:02.894690",
          "exception": false,
          "start_time": "2023-07-16T14:53:02.869592",
          "status": "completed"
        },
        "tags": [],
        "colab": {
          "base_uri": "https://localhost:8080/"
        },
        "id": "f516f89f",
        "outputId": "f682614c-be59-4de3-ef1c-62f19a4c7d83"
      },
      "outputs": [
        {
          "output_type": "execute_result",
          "data": {
            "text/plain": [
              "0        Absolutely wonderful - silky and sexy and comf...\n",
              "1        Love this dress!  it's sooo pretty.  i happene...\n",
              "2        I had such high hopes for this dress and reall...\n",
              "3        I love, love, love this jumpsuit. it's fun, fl...\n",
              "4        This shirt is very flattering to all due to th...\n",
              "                               ...                        \n",
              "23481    I was very happy to snag this dress at such a ...\n",
              "23482    It reminds me of maternity clothes. soft, stre...\n",
              "23483    This fit well, but the top was very see throug...\n",
              "23484    I bought this dress for a wedding i have this ...\n",
              "23485    This dress in a lovely platinum is feminine an...\n",
              "Name: Review, Length: 23486, dtype: object"
            ]
          },
          "metadata": {},
          "execution_count": 15
        }
      ],
      "source": [
        "df['Review']"
      ]
    },
    {
      "cell_type": "markdown",
      "source": [
        "# **Define Target(X) and Feature(Y)**"
      ],
      "metadata": {
        "id": "S-UnDnMgKQYZ"
      },
      "id": "S-UnDnMgKQYZ"
    },
    {
      "cell_type": "code",
      "execution_count": null,
      "id": "61af1bec",
      "metadata": {
        "execution": {
          "iopub.execute_input": "2023-07-16T14:53:02.951005Z",
          "iopub.status.busy": "2023-07-16T14:53:02.950210Z",
          "iopub.status.idle": "2023-07-16T14:53:02.956429Z",
          "shell.execute_reply": "2023-07-16T14:53:02.955717Z"
        },
        "papermill": {
          "duration": 0.02271,
          "end_time": "2023-07-16T14:53:02.958297",
          "exception": false,
          "start_time": "2023-07-16T14:53:02.935587",
          "status": "completed"
        },
        "tags": [],
        "colab": {
          "base_uri": "https://localhost:8080/"
        },
        "id": "61af1bec",
        "outputId": "4cde88a2-b2bb-40a9-fc0d-a507035757a4"
      },
      "outputs": [
        {
          "output_type": "execute_result",
          "data": {
            "text/plain": [
              "Index(['Clothing ID', 'Age', 'Title', 'Review', 'Rating', 'Recommended',\n",
              "       'Positive Feedback', 'Division', 'Department', 'Category'],\n",
              "      dtype='object')"
            ]
          },
          "metadata": {},
          "execution_count": 16
        }
      ],
      "source": [
        "df.columns"
      ]
    },
    {
      "cell_type": "code",
      "execution_count": null,
      "id": "3de6bae2",
      "metadata": {
        "execution": {
          "iopub.execute_input": "2023-07-16T14:53:02.987757Z",
          "iopub.status.busy": "2023-07-16T14:53:02.986986Z",
          "iopub.status.idle": "2023-07-16T14:53:02.991755Z",
          "shell.execute_reply": "2023-07-16T14:53:02.990745Z"
        },
        "papermill": {
          "duration": 0.021926,
          "end_time": "2023-07-16T14:53:02.993916",
          "exception": false,
          "start_time": "2023-07-16T14:53:02.971990",
          "status": "completed"
        },
        "tags": [],
        "id": "3de6bae2"
      },
      "outputs": [],
      "source": [
        "y = df['Rating']"
      ]
    },
    {
      "cell_type": "code",
      "execution_count": null,
      "id": "d127cf66",
      "metadata": {
        "execution": {
          "iopub.execute_input": "2023-07-16T14:53:03.022685Z",
          "iopub.status.busy": "2023-07-16T14:53:03.022263Z",
          "iopub.status.idle": "2023-07-16T14:53:03.026910Z",
          "shell.execute_reply": "2023-07-16T14:53:03.025880Z"
        },
        "papermill": {
          "duration": 0.021734,
          "end_time": "2023-07-16T14:53:03.029128",
          "exception": false,
          "start_time": "2023-07-16T14:53:03.007394",
          "status": "completed"
        },
        "tags": [],
        "id": "d127cf66"
      },
      "outputs": [],
      "source": [
        "X = df['Review']"
      ]
    },
    {
      "cell_type": "code",
      "execution_count": null,
      "id": "2763f1ca",
      "metadata": {
        "execution": {
          "iopub.execute_input": "2023-07-16T14:53:03.057961Z",
          "iopub.status.busy": "2023-07-16T14:53:03.057562Z",
          "iopub.status.idle": "2023-07-16T14:53:03.066232Z",
          "shell.execute_reply": "2023-07-16T14:53:03.065488Z"
        },
        "papermill": {
          "duration": 0.025368,
          "end_time": "2023-07-16T14:53:03.068137",
          "exception": false,
          "start_time": "2023-07-16T14:53:03.042769",
          "status": "completed"
        },
        "tags": [],
        "colab": {
          "base_uri": "https://localhost:8080/"
        },
        "id": "2763f1ca",
        "outputId": "98f9c2cc-e89a-4432-e368-15b5372fdfc8"
      },
      "outputs": [
        {
          "output_type": "execute_result",
          "data": {
            "text/plain": [
              "5.0    13131\n",
              "4.0     5077\n",
              "3.0     2871\n",
              "2.0     1565\n",
              "1.0      842\n",
              "Name: Rating, dtype: int64"
            ]
          },
          "metadata": {},
          "execution_count": 19
        }
      ],
      "source": [
        "df['Rating'].value_counts()"
      ]
    },
    {
      "cell_type": "markdown",
      "source": [
        "# **Train Test Split**"
      ],
      "metadata": {
        "id": "obfvXJEzKV09"
      },
      "id": "obfvXJEzKV09"
    },
    {
      "cell_type": "code",
      "execution_count": null,
      "id": "57a6546e",
      "metadata": {
        "execution": {
          "iopub.execute_input": "2023-07-16T14:53:03.097291Z",
          "iopub.status.busy": "2023-07-16T14:53:03.096644Z",
          "iopub.status.idle": "2023-07-16T14:53:03.315135Z",
          "shell.execute_reply": "2023-07-16T14:53:03.313865Z"
        },
        "papermill": {
          "duration": 0.236187,
          "end_time": "2023-07-16T14:53:03.317981",
          "exception": false,
          "start_time": "2023-07-16T14:53:03.081794",
          "status": "completed"
        },
        "tags": [],
        "id": "57a6546e"
      },
      "outputs": [],
      "source": [
        "from sklearn.model_selection import train_test_split"
      ]
    },
    {
      "cell_type": "code",
      "execution_count": null,
      "id": "f93b7e39",
      "metadata": {
        "execution": {
          "iopub.execute_input": "2023-07-16T14:53:03.347778Z",
          "iopub.status.busy": "2023-07-16T14:53:03.347353Z",
          "iopub.status.idle": "2023-07-16T14:53:03.365388Z",
          "shell.execute_reply": "2023-07-16T14:53:03.364033Z"
        },
        "papermill": {
          "duration": 0.035853,
          "end_time": "2023-07-16T14:53:03.368139",
          "exception": false,
          "start_time": "2023-07-16T14:53:03.332286",
          "status": "completed"
        },
        "tags": [],
        "id": "f93b7e39"
      },
      "outputs": [],
      "source": [
        "X_train, X_test, y_train, y_test = train_test_split(X, y, train_size = 0.7, stratify = y, random_state = 2529)"
      ]
    },
    {
      "cell_type": "code",
      "execution_count": null,
      "id": "1bfbf712",
      "metadata": {
        "execution": {
          "iopub.execute_input": "2023-07-16T14:53:03.397398Z",
          "iopub.status.busy": "2023-07-16T14:53:03.396709Z",
          "iopub.status.idle": "2023-07-16T14:53:03.404008Z",
          "shell.execute_reply": "2023-07-16T14:53:03.402959Z"
        },
        "papermill": {
          "duration": 0.024396,
          "end_time": "2023-07-16T14:53:03.406143",
          "exception": false,
          "start_time": "2023-07-16T14:53:03.381747",
          "status": "completed"
        },
        "tags": [],
        "colab": {
          "base_uri": "https://localhost:8080/"
        },
        "id": "1bfbf712",
        "outputId": "4c077256-3af1-48b5-a579-d601206bfd27"
      },
      "outputs": [
        {
          "output_type": "execute_result",
          "data": {
            "text/plain": [
              "((16440,), (7046,), (16440,), (7046,))"
            ]
          },
          "metadata": {},
          "execution_count": 22
        }
      ],
      "source": [
        "X_train.shape, X_test.shape, y_train.shape, y_test.shape"
      ]
    },
    {
      "cell_type": "markdown",
      "source": [
        "# **Get Features Text Conversion to Tokens**"
      ],
      "metadata": {
        "id": "Tt_pcAShKY24"
      },
      "id": "Tt_pcAShKY24"
    },
    {
      "cell_type": "code",
      "execution_count": null,
      "id": "87354189",
      "metadata": {
        "execution": {
          "iopub.execute_input": "2023-07-16T14:53:03.435058Z",
          "iopub.status.busy": "2023-07-16T14:53:03.434688Z",
          "iopub.status.idle": "2023-07-16T14:53:03.450193Z",
          "shell.execute_reply": "2023-07-16T14:53:03.449277Z"
        },
        "papermill": {
          "duration": 0.032564,
          "end_time": "2023-07-16T14:53:03.452460",
          "exception": false,
          "start_time": "2023-07-16T14:53:03.419896",
          "status": "completed"
        },
        "tags": [],
        "id": "87354189"
      },
      "outputs": [],
      "source": [
        "from sklearn.feature_extraction.text import CountVectorizer"
      ]
    },
    {
      "cell_type": "code",
      "execution_count": null,
      "id": "2e98d941",
      "metadata": {
        "execution": {
          "iopub.execute_input": "2023-07-16T14:53:03.482087Z",
          "iopub.status.busy": "2023-07-16T14:53:03.481374Z",
          "iopub.status.idle": "2023-07-16T14:53:03.486080Z",
          "shell.execute_reply": "2023-07-16T14:53:03.485242Z"
        },
        "papermill": {
          "duration": 0.021921,
          "end_time": "2023-07-16T14:53:03.488182",
          "exception": false,
          "start_time": "2023-07-16T14:53:03.466261",
          "status": "completed"
        },
        "tags": [],
        "id": "2e98d941"
      },
      "outputs": [],
      "source": [
        "cv = CountVectorizer(lowercase = True, analyzer = 'word', ngram_range=(2,3), stop_words = 'english', max_features=5000)"
      ]
    },
    {
      "cell_type": "code",
      "execution_count": null,
      "id": "87623307",
      "metadata": {
        "execution": {
          "iopub.execute_input": "2023-07-16T14:53:03.517799Z",
          "iopub.status.busy": "2023-07-16T14:53:03.517047Z",
          "iopub.status.idle": "2023-07-16T14:53:06.834438Z",
          "shell.execute_reply": "2023-07-16T14:53:06.833275Z"
        },
        "papermill": {
          "duration": 3.335029,
          "end_time": "2023-07-16T14:53:06.837066",
          "exception": false,
          "start_time": "2023-07-16T14:53:03.502037",
          "status": "completed"
        },
        "tags": [],
        "id": "87623307"
      },
      "outputs": [],
      "source": [
        "X_train  = cv.fit_transform(X_train)"
      ]
    },
    {
      "cell_type": "code",
      "execution_count": null,
      "id": "d6fcf268",
      "metadata": {
        "execution": {
          "iopub.execute_input": "2023-07-16T14:53:06.866158Z",
          "iopub.status.busy": "2023-07-16T14:53:06.865778Z",
          "iopub.status.idle": "2023-07-16T14:53:06.878651Z",
          "shell.execute_reply": "2023-07-16T14:53:06.877543Z"
        },
        "papermill": {
          "duration": 0.029903,
          "end_time": "2023-07-16T14:53:06.880829",
          "exception": false,
          "start_time": "2023-07-16T14:53:06.850926",
          "status": "completed"
        },
        "tags": [],
        "colab": {
          "base_uri": "https://localhost:8080/"
        },
        "id": "d6fcf268",
        "outputId": "f8304629-993c-4b0d-e45b-c4a086c34ed1"
      },
      "outputs": [
        {
          "output_type": "execute_result",
          "data": {
            "text/plain": [
              "array(['10 12', '10 bought', '10 fit', ..., 'yellow color', 'yoga pants',\n",
              "       'zipper little'], dtype=object)"
            ]
          },
          "metadata": {},
          "execution_count": 26
        }
      ],
      "source": [
        "cv.get_feature_names_out()"
      ]
    },
    {
      "cell_type": "code",
      "execution_count": null,
      "id": "49d0e8c9",
      "metadata": {
        "execution": {
          "iopub.execute_input": "2023-07-16T14:53:06.911089Z",
          "iopub.status.busy": "2023-07-16T14:53:06.910653Z",
          "iopub.status.idle": "2023-07-16T14:53:07.152652Z",
          "shell.execute_reply": "2023-07-16T14:53:07.151431Z"
        },
        "papermill": {
          "duration": 0.260288,
          "end_time": "2023-07-16T14:53:07.155260",
          "exception": false,
          "start_time": "2023-07-16T14:53:06.894972",
          "status": "completed"
        },
        "tags": [],
        "colab": {
          "base_uri": "https://localhost:8080/"
        },
        "id": "49d0e8c9",
        "outputId": "33825663-7216-4e41-cece-a0b7c962223d"
      },
      "outputs": [
        {
          "output_type": "execute_result",
          "data": {
            "text/plain": [
              "array([[0, 0, 0, ..., 0, 0, 0],\n",
              "       [0, 0, 0, ..., 0, 0, 0],\n",
              "       [0, 0, 0, ..., 0, 0, 0],\n",
              "       ...,\n",
              "       [0, 0, 0, ..., 0, 0, 0],\n",
              "       [0, 0, 0, ..., 0, 0, 0],\n",
              "       [0, 0, 0, ..., 0, 0, 0]])"
            ]
          },
          "metadata": {},
          "execution_count": 27
        }
      ],
      "source": [
        "X_train.toarray()"
      ]
    },
    {
      "cell_type": "code",
      "execution_count": null,
      "id": "55ad3ee2",
      "metadata": {
        "execution": {
          "iopub.execute_input": "2023-07-16T14:53:07.186938Z",
          "iopub.status.busy": "2023-07-16T14:53:07.186532Z",
          "iopub.status.idle": "2023-07-16T14:53:08.594878Z",
          "shell.execute_reply": "2023-07-16T14:53:08.593630Z"
        },
        "papermill": {
          "duration": 1.426958,
          "end_time": "2023-07-16T14:53:08.597495",
          "exception": false,
          "start_time": "2023-07-16T14:53:07.170537",
          "status": "completed"
        },
        "tags": [],
        "id": "55ad3ee2"
      },
      "outputs": [],
      "source": [
        "X_test = cv.fit_transform(X_test)"
      ]
    },
    {
      "cell_type": "code",
      "execution_count": null,
      "id": "5af77aad",
      "metadata": {
        "execution": {
          "iopub.execute_input": "2023-07-16T14:53:08.627688Z",
          "iopub.status.busy": "2023-07-16T14:53:08.627237Z",
          "iopub.status.idle": "2023-07-16T14:53:08.637730Z",
          "shell.execute_reply": "2023-07-16T14:53:08.636889Z"
        },
        "papermill": {
          "duration": 0.027894,
          "end_time": "2023-07-16T14:53:08.639805",
          "exception": false,
          "start_time": "2023-07-16T14:53:08.611911",
          "status": "completed"
        },
        "tags": [],
        "colab": {
          "base_uri": "https://localhost:8080/"
        },
        "id": "5af77aad",
        "outputId": "c76fe1d2-e5bd-4e26-c948-1e7606388464"
      },
      "outputs": [
        {
          "output_type": "execute_result",
          "data": {
            "text/plain": [
              "array(['10 12', '10 dress', '10 fit', ..., 'years come', 'years old',\n",
              "       'yoga pants'], dtype=object)"
            ]
          },
          "metadata": {},
          "execution_count": 29
        }
      ],
      "source": [
        "cv.get_feature_names_out()"
      ]
    },
    {
      "cell_type": "code",
      "execution_count": null,
      "id": "cfddd2ac",
      "metadata": {
        "execution": {
          "iopub.execute_input": "2023-07-16T14:53:08.670854Z",
          "iopub.status.busy": "2023-07-16T14:53:08.669900Z",
          "iopub.status.idle": "2023-07-16T14:53:08.776666Z",
          "shell.execute_reply": "2023-07-16T14:53:08.775735Z"
        },
        "papermill": {
          "duration": 0.124395,
          "end_time": "2023-07-16T14:53:08.778809",
          "exception": false,
          "start_time": "2023-07-16T14:53:08.654414",
          "status": "completed"
        },
        "tags": [],
        "colab": {
          "base_uri": "https://localhost:8080/"
        },
        "id": "cfddd2ac",
        "outputId": "18561a0e-63d8-44a1-acf2-ed3c5d4b58a8"
      },
      "outputs": [
        {
          "output_type": "execute_result",
          "data": {
            "text/plain": [
              "array([[0, 0, 0, ..., 0, 0, 0],\n",
              "       [0, 0, 0, ..., 0, 0, 0],\n",
              "       [0, 0, 0, ..., 0, 0, 0],\n",
              "       ...,\n",
              "       [0, 0, 0, ..., 0, 0, 0],\n",
              "       [0, 0, 0, ..., 0, 0, 0],\n",
              "       [0, 0, 0, ..., 0, 0, 0]])"
            ]
          },
          "metadata": {},
          "execution_count": 30
        }
      ],
      "source": [
        "X_test.toarray()"
      ]
    },
    {
      "cell_type": "markdown",
      "source": [
        "# **Get Model Train**"
      ],
      "metadata": {
        "id": "mAE4QDsGKe3j"
      },
      "id": "mAE4QDsGKe3j"
    },
    {
      "cell_type": "code",
      "execution_count": null,
      "id": "3fe8797b",
      "metadata": {
        "execution": {
          "iopub.execute_input": "2023-07-16T14:53:08.810176Z",
          "iopub.status.busy": "2023-07-16T14:53:08.809472Z",
          "iopub.status.idle": "2023-07-16T14:53:08.822814Z",
          "shell.execute_reply": "2023-07-16T14:53:08.821635Z"
        },
        "papermill": {
          "duration": 0.031694,
          "end_time": "2023-07-16T14:53:08.825364",
          "exception": false,
          "start_time": "2023-07-16T14:53:08.793670",
          "status": "completed"
        },
        "tags": [],
        "id": "3fe8797b"
      },
      "outputs": [],
      "source": [
        "from sklearn.naive_bayes import MultinomialNB"
      ]
    },
    {
      "cell_type": "code",
      "execution_count": null,
      "id": "d9979dfb",
      "metadata": {
        "execution": {
          "iopub.execute_input": "2023-07-16T14:53:08.856797Z",
          "iopub.status.busy": "2023-07-16T14:53:08.856386Z",
          "iopub.status.idle": "2023-07-16T14:53:08.860900Z",
          "shell.execute_reply": "2023-07-16T14:53:08.859695Z"
        },
        "papermill": {
          "duration": 0.023266,
          "end_time": "2023-07-16T14:53:08.862964",
          "exception": false,
          "start_time": "2023-07-16T14:53:08.839698",
          "status": "completed"
        },
        "tags": [],
        "id": "d9979dfb"
      },
      "outputs": [],
      "source": [
        "model = MultinomialNB()"
      ]
    },
    {
      "cell_type": "code",
      "execution_count": null,
      "id": "b956ae30",
      "metadata": {
        "execution": {
          "iopub.execute_input": "2023-07-16T14:53:08.893640Z",
          "iopub.status.busy": "2023-07-16T14:53:08.892744Z",
          "iopub.status.idle": "2023-07-16T14:53:08.914900Z",
          "shell.execute_reply": "2023-07-16T14:53:08.913702Z"
        },
        "papermill": {
          "duration": 0.039969,
          "end_time": "2023-07-16T14:53:08.917215",
          "exception": false,
          "start_time": "2023-07-16T14:53:08.877246",
          "status": "completed"
        },
        "tags": [],
        "colab": {
          "base_uri": "https://localhost:8080/",
          "height": 74
        },
        "id": "b956ae30",
        "outputId": "fc6fc30a-1cce-4388-97f7-b2e739525589"
      },
      "outputs": [
        {
          "output_type": "execute_result",
          "data": {
            "text/plain": [
              "MultinomialNB()"
            ],
            "text/html": [
              "<style>#sk-container-id-1 {color: black;background-color: white;}#sk-container-id-1 pre{padding: 0;}#sk-container-id-1 div.sk-toggleable {background-color: white;}#sk-container-id-1 label.sk-toggleable__label {cursor: pointer;display: block;width: 100%;margin-bottom: 0;padding: 0.3em;box-sizing: border-box;text-align: center;}#sk-container-id-1 label.sk-toggleable__label-arrow:before {content: \"▸\";float: left;margin-right: 0.25em;color: #696969;}#sk-container-id-1 label.sk-toggleable__label-arrow:hover:before {color: black;}#sk-container-id-1 div.sk-estimator:hover label.sk-toggleable__label-arrow:before {color: black;}#sk-container-id-1 div.sk-toggleable__content {max-height: 0;max-width: 0;overflow: hidden;text-align: left;background-color: #f0f8ff;}#sk-container-id-1 div.sk-toggleable__content pre {margin: 0.2em;color: black;border-radius: 0.25em;background-color: #f0f8ff;}#sk-container-id-1 input.sk-toggleable__control:checked~div.sk-toggleable__content {max-height: 200px;max-width: 100%;overflow: auto;}#sk-container-id-1 input.sk-toggleable__control:checked~label.sk-toggleable__label-arrow:before {content: \"▾\";}#sk-container-id-1 div.sk-estimator input.sk-toggleable__control:checked~label.sk-toggleable__label {background-color: #d4ebff;}#sk-container-id-1 div.sk-label input.sk-toggleable__control:checked~label.sk-toggleable__label {background-color: #d4ebff;}#sk-container-id-1 input.sk-hidden--visually {border: 0;clip: rect(1px 1px 1px 1px);clip: rect(1px, 1px, 1px, 1px);height: 1px;margin: -1px;overflow: hidden;padding: 0;position: absolute;width: 1px;}#sk-container-id-1 div.sk-estimator {font-family: monospace;background-color: #f0f8ff;border: 1px dotted black;border-radius: 0.25em;box-sizing: border-box;margin-bottom: 0.5em;}#sk-container-id-1 div.sk-estimator:hover {background-color: #d4ebff;}#sk-container-id-1 div.sk-parallel-item::after {content: \"\";width: 100%;border-bottom: 1px solid gray;flex-grow: 1;}#sk-container-id-1 div.sk-label:hover label.sk-toggleable__label {background-color: #d4ebff;}#sk-container-id-1 div.sk-serial::before {content: \"\";position: absolute;border-left: 1px solid gray;box-sizing: border-box;top: 0;bottom: 0;left: 50%;z-index: 0;}#sk-container-id-1 div.sk-serial {display: flex;flex-direction: column;align-items: center;background-color: white;padding-right: 0.2em;padding-left: 0.2em;position: relative;}#sk-container-id-1 div.sk-item {position: relative;z-index: 1;}#sk-container-id-1 div.sk-parallel {display: flex;align-items: stretch;justify-content: center;background-color: white;position: relative;}#sk-container-id-1 div.sk-item::before, #sk-container-id-1 div.sk-parallel-item::before {content: \"\";position: absolute;border-left: 1px solid gray;box-sizing: border-box;top: 0;bottom: 0;left: 50%;z-index: -1;}#sk-container-id-1 div.sk-parallel-item {display: flex;flex-direction: column;z-index: 1;position: relative;background-color: white;}#sk-container-id-1 div.sk-parallel-item:first-child::after {align-self: flex-end;width: 50%;}#sk-container-id-1 div.sk-parallel-item:last-child::after {align-self: flex-start;width: 50%;}#sk-container-id-1 div.sk-parallel-item:only-child::after {width: 0;}#sk-container-id-1 div.sk-dashed-wrapped {border: 1px dashed gray;margin: 0 0.4em 0.5em 0.4em;box-sizing: border-box;padding-bottom: 0.4em;background-color: white;}#sk-container-id-1 div.sk-label label {font-family: monospace;font-weight: bold;display: inline-block;line-height: 1.2em;}#sk-container-id-1 div.sk-label-container {text-align: center;}#sk-container-id-1 div.sk-container {/* jupyter's `normalize.less` sets `[hidden] { display: none; }` but bootstrap.min.css set `[hidden] { display: none !important; }` so we also need the `!important` here to be able to override the default hidden behavior on the sphinx rendered scikit-learn.org. See: https://github.com/scikit-learn/scikit-learn/issues/21755 */display: inline-block !important;position: relative;}#sk-container-id-1 div.sk-text-repr-fallback {display: none;}</style><div id=\"sk-container-id-1\" class=\"sk-top-container\"><div class=\"sk-text-repr-fallback\"><pre>MultinomialNB()</pre><b>In a Jupyter environment, please rerun this cell to show the HTML representation or trust the notebook. <br />On GitHub, the HTML representation is unable to render, please try loading this page with nbviewer.org.</b></div><div class=\"sk-container\" hidden><div class=\"sk-item\"><div class=\"sk-estimator sk-toggleable\"><input class=\"sk-toggleable__control sk-hidden--visually\" id=\"sk-estimator-id-1\" type=\"checkbox\" checked><label for=\"sk-estimator-id-1\" class=\"sk-toggleable__label sk-toggleable__label-arrow\">MultinomialNB</label><div class=\"sk-toggleable__content\"><pre>MultinomialNB()</pre></div></div></div></div></div>"
            ]
          },
          "metadata": {},
          "execution_count": 33
        }
      ],
      "source": [
        "model.fit(X_train, y_train)"
      ]
    },
    {
      "cell_type": "markdown",
      "source": [
        "# **GET MODEL PREDICTION**"
      ],
      "metadata": {
        "id": "j99HIU4eKjDq"
      },
      "id": "j99HIU4eKjDq"
    },
    {
      "cell_type": "code",
      "execution_count": null,
      "id": "2f79561e",
      "metadata": {
        "execution": {
          "iopub.execute_input": "2023-07-16T14:53:08.948725Z",
          "iopub.status.busy": "2023-07-16T14:53:08.948309Z",
          "iopub.status.idle": "2023-07-16T14:53:08.955957Z",
          "shell.execute_reply": "2023-07-16T14:53:08.954993Z"
        },
        "papermill": {
          "duration": 0.026133,
          "end_time": "2023-07-16T14:53:08.958321",
          "exception": false,
          "start_time": "2023-07-16T14:53:08.932188",
          "status": "completed"
        },
        "tags": [],
        "id": "2f79561e"
      },
      "outputs": [],
      "source": [
        "y_pred = model.predict(X_test)"
      ]
    },
    {
      "cell_type": "code",
      "execution_count": null,
      "id": "9efaffce",
      "metadata": {
        "execution": {
          "iopub.execute_input": "2023-07-16T14:53:08.989672Z",
          "iopub.status.busy": "2023-07-16T14:53:08.988961Z",
          "iopub.status.idle": "2023-07-16T14:53:08.996425Z",
          "shell.execute_reply": "2023-07-16T14:53:08.995288Z"
        },
        "papermill": {
          "duration": 0.025762,
          "end_time": "2023-07-16T14:53:08.998892",
          "exception": false,
          "start_time": "2023-07-16T14:53:08.973130",
          "status": "completed"
        },
        "tags": [],
        "colab": {
          "base_uri": "https://localhost:8080/"
        },
        "id": "9efaffce",
        "outputId": "b48fff0c-ceb8-4351-a5c9-62f9c6bd3511"
      },
      "outputs": [
        {
          "output_type": "execute_result",
          "data": {
            "text/plain": [
              "(7046,)"
            ]
          },
          "metadata": {},
          "execution_count": 35
        }
      ],
      "source": [
        "y_pred.shape"
      ]
    },
    {
      "cell_type": "code",
      "execution_count": null,
      "id": "949265f9",
      "metadata": {
        "execution": {
          "iopub.execute_input": "2023-07-16T14:53:09.030066Z",
          "iopub.status.busy": "2023-07-16T14:53:09.029664Z",
          "iopub.status.idle": "2023-07-16T14:53:09.037117Z",
          "shell.execute_reply": "2023-07-16T14:53:09.036048Z"
        },
        "papermill": {
          "duration": 0.025437,
          "end_time": "2023-07-16T14:53:09.039121",
          "exception": false,
          "start_time": "2023-07-16T14:53:09.013684",
          "status": "completed"
        },
        "tags": [],
        "colab": {
          "base_uri": "https://localhost:8080/"
        },
        "id": "949265f9",
        "outputId": "9bf3f54b-e516-4e08-c9bc-df32dd92bf18"
      },
      "outputs": [
        {
          "output_type": "execute_result",
          "data": {
            "text/plain": [
              "array([1., 5., 5., ..., 5., 5., 5.])"
            ]
          },
          "metadata": {},
          "execution_count": 36
        }
      ],
      "source": [
        "y_pred"
      ]
    },
    {
      "cell_type": "markdown",
      "source": [
        "# Get Probability of Each Predicted **Class**"
      ],
      "metadata": {
        "id": "uFjeHUr6KmGE"
      },
      "id": "uFjeHUr6KmGE"
    },
    {
      "cell_type": "code",
      "execution_count": null,
      "id": "80af4419",
      "metadata": {
        "execution": {
          "iopub.execute_input": "2023-07-16T14:53:09.070863Z",
          "iopub.status.busy": "2023-07-16T14:53:09.069996Z",
          "iopub.status.idle": "2023-07-16T14:53:09.081657Z",
          "shell.execute_reply": "2023-07-16T14:53:09.080534Z"
        },
        "papermill": {
          "duration": 0.030428,
          "end_time": "2023-07-16T14:53:09.084331",
          "exception": false,
          "start_time": "2023-07-16T14:53:09.053903",
          "status": "completed"
        },
        "tags": [],
        "colab": {
          "base_uri": "https://localhost:8080/"
        },
        "id": "80af4419",
        "outputId": "86b27d30-6a34-4b9d-c742-383e4b319e17"
      },
      "outputs": [
        {
          "output_type": "execute_result",
          "data": {
            "text/plain": [
              "array([[0.71118473, 0.02625165, 0.15465118, 0.01496876, 0.09294369],\n",
              "       [0.02416867, 0.04769471, 0.35268622, 0.16185007, 0.41360034],\n",
              "       [0.03582725, 0.06660584, 0.12226277, 0.21618005, 0.55912409],\n",
              "       ...,\n",
              "       [0.02320281, 0.08950939, 0.08962183, 0.16719203, 0.63047394],\n",
              "       [0.01167675, 0.00202714, 0.08539004, 0.34347398, 0.55743209],\n",
              "       [0.03959824, 0.05612822, 0.00688869, 0.1560574 , 0.74132745]])"
            ]
          },
          "metadata": {},
          "execution_count": 37
        }
      ],
      "source": [
        "model.predict_proba(X_test)"
      ]
    },
    {
      "cell_type": "markdown",
      "source": [
        "# **Get Model Evaluation**"
      ],
      "metadata": {
        "id": "rWogzcrHKqbU"
      },
      "id": "rWogzcrHKqbU"
    },
    {
      "cell_type": "code",
      "execution_count": null,
      "id": "f3bf3f53",
      "metadata": {
        "execution": {
          "iopub.execute_input": "2023-07-16T14:53:09.116123Z",
          "iopub.status.busy": "2023-07-16T14:53:09.115726Z",
          "iopub.status.idle": "2023-07-16T14:53:09.120428Z",
          "shell.execute_reply": "2023-07-16T14:53:09.119370Z"
        },
        "papermill": {
          "duration": 0.023243,
          "end_time": "2023-07-16T14:53:09.122679",
          "exception": false,
          "start_time": "2023-07-16T14:53:09.099436",
          "status": "completed"
        },
        "tags": [],
        "id": "f3bf3f53"
      },
      "outputs": [],
      "source": [
        "from sklearn.metrics import confusion_matrix, classification_report"
      ]
    },
    {
      "cell_type": "code",
      "execution_count": null,
      "id": "9f6904ac",
      "metadata": {
        "execution": {
          "iopub.execute_input": "2023-07-16T14:53:09.154396Z",
          "iopub.status.busy": "2023-07-16T14:53:09.153981Z",
          "iopub.status.idle": "2023-07-16T14:53:09.167751Z",
          "shell.execute_reply": "2023-07-16T14:53:09.166787Z"
        },
        "papermill": {
          "duration": 0.032091,
          "end_time": "2023-07-16T14:53:09.169933",
          "exception": false,
          "start_time": "2023-07-16T14:53:09.137842",
          "status": "completed"
        },
        "tags": [],
        "colab": {
          "base_uri": "https://localhost:8080/"
        },
        "id": "9f6904ac",
        "outputId": "ce0048b7-5055-4bbb-b297-6a597ff62fad"
      },
      "outputs": [
        {
          "output_type": "stream",
          "name": "stdout",
          "text": [
            "[[  15   13   45   36  144]\n",
            " [  43   43   86   85  213]\n",
            " [ 116   78  113  166  388]\n",
            " [ 166  108  194  336  719]\n",
            " [ 371  272  349  722 2225]]\n"
          ]
        }
      ],
      "source": [
        "print(confusion_matrix(y_test, y_pred))"
      ]
    },
    {
      "cell_type": "code",
      "execution_count": null,
      "id": "3207c164",
      "metadata": {
        "execution": {
          "iopub.execute_input": "2023-07-16T14:53:09.201871Z",
          "iopub.status.busy": "2023-07-16T14:53:09.201061Z",
          "iopub.status.idle": "2023-07-16T14:53:09.230522Z",
          "shell.execute_reply": "2023-07-16T14:53:09.229141Z"
        },
        "papermill": {
          "duration": 0.048285,
          "end_time": "2023-07-16T14:53:09.233175",
          "exception": false,
          "start_time": "2023-07-16T14:53:09.184890",
          "status": "completed"
        },
        "tags": [],
        "colab": {
          "base_uri": "https://localhost:8080/"
        },
        "id": "3207c164",
        "outputId": "6717973f-9dbf-4b7e-a445-6557320f5d18"
      },
      "outputs": [
        {
          "output_type": "stream",
          "name": "stdout",
          "text": [
            "              precision    recall  f1-score   support\n",
            "\n",
            "         1.0       0.02      0.06      0.03       253\n",
            "         2.0       0.08      0.09      0.09       470\n",
            "         3.0       0.14      0.13      0.14       861\n",
            "         4.0       0.25      0.22      0.23      1523\n",
            "         5.0       0.60      0.56      0.58      3939\n",
            "\n",
            "    accuracy                           0.39      7046\n",
            "   macro avg       0.22      0.21      0.21      7046\n",
            "weighted avg       0.42      0.39      0.40      7046\n",
            "\n"
          ]
        }
      ],
      "source": [
        "print(classification_report(y_test, y_pred))"
      ]
    },
    {
      "cell_type": "markdown",
      "source": [
        "# **Recategories Rating as Poor(0) and Good (1)**"
      ],
      "metadata": {
        "id": "IdvfC6B_KugV"
      },
      "id": "IdvfC6B_KugV"
    },
    {
      "cell_type": "code",
      "execution_count": null,
      "id": "033672d8",
      "metadata": {
        "execution": {
          "iopub.execute_input": "2023-07-16T14:53:09.266191Z",
          "iopub.status.busy": "2023-07-16T14:53:09.265204Z",
          "iopub.status.idle": "2023-07-16T14:53:09.274867Z",
          "shell.execute_reply": "2023-07-16T14:53:09.273685Z"
        },
        "papermill": {
          "duration": 0.028821,
          "end_time": "2023-07-16T14:53:09.277040",
          "exception": false,
          "start_time": "2023-07-16T14:53:09.248219",
          "status": "completed"
        },
        "tags": [],
        "colab": {
          "base_uri": "https://localhost:8080/"
        },
        "id": "033672d8",
        "outputId": "752b1817-fbc7-49d3-b591-e118c75c7c8b"
      },
      "outputs": [
        {
          "output_type": "execute_result",
          "data": {
            "text/plain": [
              "5.0    13131\n",
              "4.0     5077\n",
              "3.0     2871\n",
              "2.0     1565\n",
              "1.0      842\n",
              "Name: Rating, dtype: int64"
            ]
          },
          "metadata": {},
          "execution_count": 41
        }
      ],
      "source": [
        "df['Rating'].value_counts()"
      ]
    },
    {
      "cell_type": "markdown",
      "source": [
        "**Re-Rating 1,2,3 as o and 4, 5 as 1**"
      ],
      "metadata": {
        "id": "6IEaIcO_K1xM"
      },
      "id": "6IEaIcO_K1xM"
    },
    {
      "cell_type": "code",
      "execution_count": null,
      "id": "9a6b446e",
      "metadata": {
        "execution": {
          "iopub.execute_input": "2023-07-16T14:53:09.309360Z",
          "iopub.status.busy": "2023-07-16T14:53:09.308940Z",
          "iopub.status.idle": "2023-07-16T14:53:09.317745Z",
          "shell.execute_reply": "2023-07-16T14:53:09.316572Z"
        },
        "papermill": {
          "duration": 0.027809,
          "end_time": "2023-07-16T14:53:09.320053",
          "exception": false,
          "start_time": "2023-07-16T14:53:09.292244",
          "status": "completed"
        },
        "tags": [],
        "id": "9a6b446e"
      },
      "outputs": [],
      "source": [
        "df.replace({'Rating' : { 1:0, 2:0, 3:0, 4:1, 5:1}}, inplace = True)"
      ]
    },
    {
      "cell_type": "code",
      "execution_count": null,
      "id": "b6b98930",
      "metadata": {
        "execution": {
          "iopub.execute_input": "2023-07-16T14:53:09.353225Z",
          "iopub.status.busy": "2023-07-16T14:53:09.352811Z",
          "iopub.status.idle": "2023-07-16T14:53:09.357467Z",
          "shell.execute_reply": "2023-07-16T14:53:09.356396Z"
        },
        "papermill": {
          "duration": 0.023798,
          "end_time": "2023-07-16T14:53:09.359852",
          "exception": false,
          "start_time": "2023-07-16T14:53:09.336054",
          "status": "completed"
        },
        "tags": [],
        "id": "b6b98930"
      },
      "outputs": [],
      "source": [
        "y = df['Rating']"
      ]
    },
    {
      "cell_type": "code",
      "execution_count": null,
      "id": "144b4045",
      "metadata": {
        "execution": {
          "iopub.execute_input": "2023-07-16T14:53:09.393458Z",
          "iopub.status.busy": "2023-07-16T14:53:09.392662Z",
          "iopub.status.idle": "2023-07-16T14:53:09.397700Z",
          "shell.execute_reply": "2023-07-16T14:53:09.396834Z"
        },
        "papermill": {
          "duration": 0.024244,
          "end_time": "2023-07-16T14:53:09.399888",
          "exception": false,
          "start_time": "2023-07-16T14:53:09.375644",
          "status": "completed"
        },
        "tags": [],
        "id": "144b4045"
      },
      "outputs": [],
      "source": [
        "X = df['Review']"
      ]
    },
    {
      "cell_type": "markdown",
      "source": [
        "# Train - Test **Split**"
      ],
      "metadata": {
        "id": "bVdhQHa5K7Qc"
      },
      "id": "bVdhQHa5K7Qc"
    },
    {
      "cell_type": "code",
      "execution_count": null,
      "id": "50a49567",
      "metadata": {
        "execution": {
          "iopub.execute_input": "2023-07-16T14:53:09.432746Z",
          "iopub.status.busy": "2023-07-16T14:53:09.431964Z",
          "iopub.status.idle": "2023-07-16T14:53:09.437201Z",
          "shell.execute_reply": "2023-07-16T14:53:09.436057Z"
        },
        "papermill": {
          "duration": 0.024423,
          "end_time": "2023-07-16T14:53:09.439704",
          "exception": false,
          "start_time": "2023-07-16T14:53:09.415281",
          "status": "completed"
        },
        "tags": [],
        "id": "50a49567"
      },
      "outputs": [],
      "source": [
        "from sklearn.model_selection import train_test_split"
      ]
    },
    {
      "cell_type": "code",
      "execution_count": null,
      "id": "cedb1cec",
      "metadata": {
        "execution": {
          "iopub.execute_input": "2023-07-16T14:53:09.472321Z",
          "iopub.status.busy": "2023-07-16T14:53:09.471916Z",
          "iopub.status.idle": "2023-07-16T14:53:09.489246Z",
          "shell.execute_reply": "2023-07-16T14:53:09.487885Z"
        },
        "papermill": {
          "duration": 0.036945,
          "end_time": "2023-07-16T14:53:09.491952",
          "exception": false,
          "start_time": "2023-07-16T14:53:09.455007",
          "status": "completed"
        },
        "tags": [],
        "id": "cedb1cec"
      },
      "outputs": [],
      "source": [
        "X_train, X_test, y_train, y_test = train_test_split(X, y, train_size = 0.7, stratify = y, random_state = 2529)"
      ]
    },
    {
      "cell_type": "code",
      "execution_count": null,
      "id": "2548b503",
      "metadata": {
        "execution": {
          "iopub.execute_input": "2023-07-16T14:53:09.525141Z",
          "iopub.status.busy": "2023-07-16T14:53:09.524766Z",
          "iopub.status.idle": "2023-07-16T14:53:09.530937Z",
          "shell.execute_reply": "2023-07-16T14:53:09.530137Z"
        },
        "papermill": {
          "duration": 0.024824,
          "end_time": "2023-07-16T14:53:09.532857",
          "exception": false,
          "start_time": "2023-07-16T14:53:09.508033",
          "status": "completed"
        },
        "tags": [],
        "colab": {
          "base_uri": "https://localhost:8080/"
        },
        "id": "2548b503",
        "outputId": "197b6096-9ee8-4b70-bbb8-f609ee2d74ee"
      },
      "outputs": [
        {
          "output_type": "execute_result",
          "data": {
            "text/plain": [
              "((16440,), (7046,), (16440,), (7046,))"
            ]
          },
          "metadata": {},
          "execution_count": 47
        }
      ],
      "source": [
        "X_train.shape, X_test.shape, y_train.shape, y_test.shape"
      ]
    },
    {
      "cell_type": "markdown",
      "source": [
        "# **Get feature text conversion to tokens**"
      ],
      "metadata": {
        "id": "bDwLFax-K-t6"
      },
      "id": "bDwLFax-K-t6"
    },
    {
      "cell_type": "code",
      "execution_count": null,
      "id": "55d9464a",
      "metadata": {
        "execution": {
          "iopub.execute_input": "2023-07-16T14:53:09.565411Z",
          "iopub.status.busy": "2023-07-16T14:53:09.564768Z",
          "iopub.status.idle": "2023-07-16T14:53:09.569342Z",
          "shell.execute_reply": "2023-07-16T14:53:09.568085Z"
        },
        "papermill": {
          "duration": 0.023573,
          "end_time": "2023-07-16T14:53:09.571569",
          "exception": false,
          "start_time": "2023-07-16T14:53:09.547996",
          "status": "completed"
        },
        "tags": [],
        "id": "55d9464a"
      },
      "outputs": [],
      "source": [
        "from sklearn.feature_extraction.text import CountVectorizer"
      ]
    },
    {
      "cell_type": "code",
      "execution_count": null,
      "id": "8fdf68dc",
      "metadata": {
        "execution": {
          "iopub.execute_input": "2023-07-16T14:53:09.604414Z",
          "iopub.status.busy": "2023-07-16T14:53:09.603791Z",
          "iopub.status.idle": "2023-07-16T14:53:09.626929Z",
          "shell.execute_reply": "2023-07-16T14:53:09.625763Z"
        },
        "papermill": {
          "duration": 0.042568,
          "end_time": "2023-07-16T14:53:09.629436",
          "exception": false,
          "start_time": "2023-07-16T14:53:09.586868",
          "status": "completed"
        },
        "tags": [],
        "id": "8fdf68dc"
      },
      "outputs": [],
      "source": [
        "cv = CountVectorizer(lowercase = True, analyzer = 'word', ngram_range=(2,3), stop_words = 'english', max_features=5000)"
      ]
    },
    {
      "cell_type": "code",
      "execution_count": null,
      "id": "c1ffb332",
      "metadata": {
        "execution": {
          "iopub.execute_input": "2023-07-16T14:53:09.661841Z",
          "iopub.status.busy": "2023-07-16T14:53:09.661130Z",
          "iopub.status.idle": "2023-07-16T14:53:12.984409Z",
          "shell.execute_reply": "2023-07-16T14:53:12.983180Z"
        },
        "papermill": {
          "duration": 3.342381,
          "end_time": "2023-07-16T14:53:12.987090",
          "exception": false,
          "start_time": "2023-07-16T14:53:09.644709",
          "status": "completed"
        },
        "tags": [],
        "id": "c1ffb332"
      },
      "outputs": [],
      "source": [
        "X_train  = cv.fit_transform(X_train)"
      ]
    },
    {
      "cell_type": "code",
      "execution_count": null,
      "id": "61036401",
      "metadata": {
        "execution": {
          "iopub.execute_input": "2023-07-16T14:53:13.020496Z",
          "iopub.status.busy": "2023-07-16T14:53:13.020085Z",
          "iopub.status.idle": "2023-07-16T14:53:14.415489Z",
          "shell.execute_reply": "2023-07-16T14:53:14.414380Z"
        },
        "papermill": {
          "duration": 1.414792,
          "end_time": "2023-07-16T14:53:14.417918",
          "exception": false,
          "start_time": "2023-07-16T14:53:13.003126",
          "status": "completed"
        },
        "tags": [],
        "id": "61036401"
      },
      "outputs": [],
      "source": [
        "X_test  = cv.fit_transform(X_test)"
      ]
    },
    {
      "cell_type": "markdown",
      "source": [
        "### **Get Model Re-train**"
      ],
      "metadata": {
        "id": "bNGf-YqCLCtQ"
      },
      "id": "bNGf-YqCLCtQ"
    },
    {
      "cell_type": "code",
      "execution_count": null,
      "id": "e5a7e0f6",
      "metadata": {
        "execution": {
          "iopub.execute_input": "2023-07-16T14:53:14.450881Z",
          "iopub.status.busy": "2023-07-16T14:53:14.450468Z",
          "iopub.status.idle": "2023-07-16T14:53:14.455399Z",
          "shell.execute_reply": "2023-07-16T14:53:14.454263Z"
        },
        "papermill": {
          "duration": 0.024441,
          "end_time": "2023-07-16T14:53:14.457718",
          "exception": false,
          "start_time": "2023-07-16T14:53:14.433277",
          "status": "completed"
        },
        "tags": [],
        "id": "e5a7e0f6"
      },
      "outputs": [],
      "source": [
        "from sklearn.naive_bayes import MultinomialNB"
      ]
    },
    {
      "cell_type": "code",
      "execution_count": null,
      "id": "3d13d17c",
      "metadata": {
        "execution": {
          "iopub.execute_input": "2023-07-16T14:53:14.491034Z",
          "iopub.status.busy": "2023-07-16T14:53:14.490428Z",
          "iopub.status.idle": "2023-07-16T14:53:14.495784Z",
          "shell.execute_reply": "2023-07-16T14:53:14.494570Z"
        },
        "papermill": {
          "duration": 0.02444,
          "end_time": "2023-07-16T14:53:14.498068",
          "exception": false,
          "start_time": "2023-07-16T14:53:14.473628",
          "status": "completed"
        },
        "tags": [],
        "id": "3d13d17c"
      },
      "outputs": [],
      "source": [
        "model = MultinomialNB()"
      ]
    },
    {
      "cell_type": "code",
      "execution_count": null,
      "id": "5ef9fdd2",
      "metadata": {
        "execution": {
          "iopub.execute_input": "2023-07-16T14:53:14.537690Z",
          "iopub.status.busy": "2023-07-16T14:53:14.537130Z",
          "iopub.status.idle": "2023-07-16T14:53:14.551680Z",
          "shell.execute_reply": "2023-07-16T14:53:14.550645Z"
        },
        "papermill": {
          "duration": 0.038431,
          "end_time": "2023-07-16T14:53:14.555760",
          "exception": false,
          "start_time": "2023-07-16T14:53:14.517329",
          "status": "completed"
        },
        "tags": [],
        "colab": {
          "base_uri": "https://localhost:8080/",
          "height": 74
        },
        "id": "5ef9fdd2",
        "outputId": "fd230398-4b4d-4f09-bb6d-b6ed052cd91a"
      },
      "outputs": [
        {
          "output_type": "execute_result",
          "data": {
            "text/plain": [
              "MultinomialNB()"
            ],
            "text/html": [
              "<style>#sk-container-id-2 {color: black;background-color: white;}#sk-container-id-2 pre{padding: 0;}#sk-container-id-2 div.sk-toggleable {background-color: white;}#sk-container-id-2 label.sk-toggleable__label {cursor: pointer;display: block;width: 100%;margin-bottom: 0;padding: 0.3em;box-sizing: border-box;text-align: center;}#sk-container-id-2 label.sk-toggleable__label-arrow:before {content: \"▸\";float: left;margin-right: 0.25em;color: #696969;}#sk-container-id-2 label.sk-toggleable__label-arrow:hover:before {color: black;}#sk-container-id-2 div.sk-estimator:hover label.sk-toggleable__label-arrow:before {color: black;}#sk-container-id-2 div.sk-toggleable__content {max-height: 0;max-width: 0;overflow: hidden;text-align: left;background-color: #f0f8ff;}#sk-container-id-2 div.sk-toggleable__content pre {margin: 0.2em;color: black;border-radius: 0.25em;background-color: #f0f8ff;}#sk-container-id-2 input.sk-toggleable__control:checked~div.sk-toggleable__content {max-height: 200px;max-width: 100%;overflow: auto;}#sk-container-id-2 input.sk-toggleable__control:checked~label.sk-toggleable__label-arrow:before {content: \"▾\";}#sk-container-id-2 div.sk-estimator input.sk-toggleable__control:checked~label.sk-toggleable__label {background-color: #d4ebff;}#sk-container-id-2 div.sk-label input.sk-toggleable__control:checked~label.sk-toggleable__label {background-color: #d4ebff;}#sk-container-id-2 input.sk-hidden--visually {border: 0;clip: rect(1px 1px 1px 1px);clip: rect(1px, 1px, 1px, 1px);height: 1px;margin: -1px;overflow: hidden;padding: 0;position: absolute;width: 1px;}#sk-container-id-2 div.sk-estimator {font-family: monospace;background-color: #f0f8ff;border: 1px dotted black;border-radius: 0.25em;box-sizing: border-box;margin-bottom: 0.5em;}#sk-container-id-2 div.sk-estimator:hover {background-color: #d4ebff;}#sk-container-id-2 div.sk-parallel-item::after {content: \"\";width: 100%;border-bottom: 1px solid gray;flex-grow: 1;}#sk-container-id-2 div.sk-label:hover label.sk-toggleable__label {background-color: #d4ebff;}#sk-container-id-2 div.sk-serial::before {content: \"\";position: absolute;border-left: 1px solid gray;box-sizing: border-box;top: 0;bottom: 0;left: 50%;z-index: 0;}#sk-container-id-2 div.sk-serial {display: flex;flex-direction: column;align-items: center;background-color: white;padding-right: 0.2em;padding-left: 0.2em;position: relative;}#sk-container-id-2 div.sk-item {position: relative;z-index: 1;}#sk-container-id-2 div.sk-parallel {display: flex;align-items: stretch;justify-content: center;background-color: white;position: relative;}#sk-container-id-2 div.sk-item::before, #sk-container-id-2 div.sk-parallel-item::before {content: \"\";position: absolute;border-left: 1px solid gray;box-sizing: border-box;top: 0;bottom: 0;left: 50%;z-index: -1;}#sk-container-id-2 div.sk-parallel-item {display: flex;flex-direction: column;z-index: 1;position: relative;background-color: white;}#sk-container-id-2 div.sk-parallel-item:first-child::after {align-self: flex-end;width: 50%;}#sk-container-id-2 div.sk-parallel-item:last-child::after {align-self: flex-start;width: 50%;}#sk-container-id-2 div.sk-parallel-item:only-child::after {width: 0;}#sk-container-id-2 div.sk-dashed-wrapped {border: 1px dashed gray;margin: 0 0.4em 0.5em 0.4em;box-sizing: border-box;padding-bottom: 0.4em;background-color: white;}#sk-container-id-2 div.sk-label label {font-family: monospace;font-weight: bold;display: inline-block;line-height: 1.2em;}#sk-container-id-2 div.sk-label-container {text-align: center;}#sk-container-id-2 div.sk-container {/* jupyter's `normalize.less` sets `[hidden] { display: none; }` but bootstrap.min.css set `[hidden] { display: none !important; }` so we also need the `!important` here to be able to override the default hidden behavior on the sphinx rendered scikit-learn.org. See: https://github.com/scikit-learn/scikit-learn/issues/21755 */display: inline-block !important;position: relative;}#sk-container-id-2 div.sk-text-repr-fallback {display: none;}</style><div id=\"sk-container-id-2\" class=\"sk-top-container\"><div class=\"sk-text-repr-fallback\"><pre>MultinomialNB()</pre><b>In a Jupyter environment, please rerun this cell to show the HTML representation or trust the notebook. <br />On GitHub, the HTML representation is unable to render, please try loading this page with nbviewer.org.</b></div><div class=\"sk-container\" hidden><div class=\"sk-item\"><div class=\"sk-estimator sk-toggleable\"><input class=\"sk-toggleable__control sk-hidden--visually\" id=\"sk-estimator-id-2\" type=\"checkbox\" checked><label for=\"sk-estimator-id-2\" class=\"sk-toggleable__label sk-toggleable__label-arrow\">MultinomialNB</label><div class=\"sk-toggleable__content\"><pre>MultinomialNB()</pre></div></div></div></div></div>"
            ]
          },
          "metadata": {},
          "execution_count": 54
        }
      ],
      "source": [
        "model.fit(X_train, y_train)"
      ]
    },
    {
      "cell_type": "markdown",
      "source": [
        "### **Get Model Evaluation**"
      ],
      "metadata": {
        "id": "n01Zgb5gLI6U"
      },
      "id": "n01Zgb5gLI6U"
    },
    {
      "cell_type": "code",
      "execution_count": null,
      "id": "29cf4281",
      "metadata": {
        "execution": {
          "iopub.execute_input": "2023-07-16T14:53:14.591222Z",
          "iopub.status.busy": "2023-07-16T14:53:14.590683Z",
          "iopub.status.idle": "2023-07-16T14:53:14.596972Z",
          "shell.execute_reply": "2023-07-16T14:53:14.595535Z"
        },
        "papermill": {
          "duration": 0.026255,
          "end_time": "2023-07-16T14:53:14.599563",
          "exception": false,
          "start_time": "2023-07-16T14:53:14.573308",
          "status": "completed"
        },
        "tags": [],
        "id": "29cf4281"
      },
      "outputs": [],
      "source": [
        "from sklearn.metrics import confusion_matrix, classification_report"
      ]
    },
    {
      "cell_type": "code",
      "execution_count": null,
      "id": "a28c0cee",
      "metadata": {
        "execution": {
          "iopub.execute_input": "2023-07-16T14:53:14.633431Z",
          "iopub.status.busy": "2023-07-16T14:53:14.632948Z",
          "iopub.status.idle": "2023-07-16T14:53:14.652115Z",
          "shell.execute_reply": "2023-07-16T14:53:14.650729Z"
        },
        "papermill": {
          "duration": 0.039891,
          "end_time": "2023-07-16T14:53:14.655596",
          "exception": false,
          "start_time": "2023-07-16T14:53:14.615705",
          "status": "completed"
        },
        "tags": [],
        "colab": {
          "base_uri": "https://localhost:8080/"
        },
        "id": "a28c0cee",
        "outputId": "15b172d2-b16e-4494-8145-4027b78546b6"
      },
      "outputs": [
        {
          "output_type": "stream",
          "name": "stdout",
          "text": [
            "[[   0  153  108  176  301  845]\n",
            " [   0  558  406  611 1044 2844]\n",
            " [   0    0    0    0    0    0]\n",
            " [   0    0    0    0    0    0]\n",
            " [   0    0    0    0    0    0]\n",
            " [   0    0    0    0    0    0]]\n"
          ]
        }
      ],
      "source": [
        "print(confusion_matrix(y_test, y_pred))"
      ]
    },
    {
      "cell_type": "code",
      "execution_count": null,
      "id": "453605b2",
      "metadata": {
        "execution": {
          "iopub.execute_input": "2023-07-16T14:53:14.691501Z",
          "iopub.status.busy": "2023-07-16T14:53:14.691131Z",
          "iopub.status.idle": "2023-07-16T14:53:14.722283Z",
          "shell.execute_reply": "2023-07-16T14:53:14.720830Z"
        },
        "papermill": {
          "duration": 0.051629,
          "end_time": "2023-07-16T14:53:14.726131",
          "exception": false,
          "start_time": "2023-07-16T14:53:14.674502",
          "status": "completed"
        },
        "tags": [],
        "colab": {
          "base_uri": "https://localhost:8080/"
        },
        "id": "453605b2",
        "outputId": "2dcd93e4-bf2a-48f0-d8df-b19eea470249"
      },
      "outputs": [
        {
          "output_type": "stream",
          "name": "stdout",
          "text": [
            "              precision    recall  f1-score   support\n",
            "\n",
            "         0.0       0.00      0.00      0.00      1583\n",
            "         1.0       0.78      0.10      0.18      5463\n",
            "         2.0       0.00      0.00      0.00         0\n",
            "         3.0       0.00      0.00      0.00         0\n",
            "         4.0       0.00      0.00      0.00         0\n",
            "         5.0       0.00      0.00      0.00         0\n",
            "\n",
            "    accuracy                           0.08      7046\n",
            "   macro avg       0.13      0.02      0.03      7046\n",
            "weighted avg       0.61      0.08      0.14      7046\n",
            "\n"
          ]
        },
        {
          "output_type": "stream",
          "name": "stderr",
          "text": [
            "/usr/local/lib/python3.10/dist-packages/sklearn/metrics/_classification.py:1344: UndefinedMetricWarning: Precision and F-score are ill-defined and being set to 0.0 in labels with no predicted samples. Use `zero_division` parameter to control this behavior.\n",
            "  _warn_prf(average, modifier, msg_start, len(result))\n",
            "/usr/local/lib/python3.10/dist-packages/sklearn/metrics/_classification.py:1344: UndefinedMetricWarning: Recall and F-score are ill-defined and being set to 0.0 in labels with no true samples. Use `zero_division` parameter to control this behavior.\n",
            "  _warn_prf(average, modifier, msg_start, len(result))\n",
            "/usr/local/lib/python3.10/dist-packages/sklearn/metrics/_classification.py:1344: UndefinedMetricWarning: Precision and F-score are ill-defined and being set to 0.0 in labels with no predicted samples. Use `zero_division` parameter to control this behavior.\n",
            "  _warn_prf(average, modifier, msg_start, len(result))\n",
            "/usr/local/lib/python3.10/dist-packages/sklearn/metrics/_classification.py:1344: UndefinedMetricWarning: Recall and F-score are ill-defined and being set to 0.0 in labels with no true samples. Use `zero_division` parameter to control this behavior.\n",
            "  _warn_prf(average, modifier, msg_start, len(result))\n",
            "/usr/local/lib/python3.10/dist-packages/sklearn/metrics/_classification.py:1344: UndefinedMetricWarning: Precision and F-score are ill-defined and being set to 0.0 in labels with no predicted samples. Use `zero_division` parameter to control this behavior.\n",
            "  _warn_prf(average, modifier, msg_start, len(result))\n",
            "/usr/local/lib/python3.10/dist-packages/sklearn/metrics/_classification.py:1344: UndefinedMetricWarning: Recall and F-score are ill-defined and being set to 0.0 in labels with no true samples. Use `zero_division` parameter to control this behavior.\n",
            "  _warn_prf(average, modifier, msg_start, len(result))\n"
          ]
        }
      ],
      "source": [
        "print(classification_report(y_test, y_pred))"
      ]
    },
    {
      "cell_type": "markdown",
      "source": [
        "### **MODEL PREDICTION**"
      ],
      "metadata": {
        "id": "0G0MpSyyLVPF"
      },
      "id": "0G0MpSyyLVPF"
    },
    {
      "cell_type": "code",
      "execution_count": null,
      "id": "8969056b",
      "metadata": {
        "execution": {
          "iopub.execute_input": "2023-07-16T14:53:14.766728Z",
          "iopub.status.busy": "2023-07-16T14:53:14.765726Z",
          "iopub.status.idle": "2023-07-16T14:53:14.772782Z",
          "shell.execute_reply": "2023-07-16T14:53:14.771695Z"
        },
        "papermill": {
          "duration": 0.026701,
          "end_time": "2023-07-16T14:53:14.775161",
          "exception": false,
          "start_time": "2023-07-16T14:53:14.748460",
          "status": "completed"
        },
        "tags": [],
        "id": "8969056b"
      },
      "outputs": [],
      "source": [
        "y_pred = model.predict(X_test)"
      ]
    },
    {
      "cell_type": "code",
      "execution_count": null,
      "id": "e17f98c3",
      "metadata": {
        "execution": {
          "iopub.execute_input": "2023-07-16T14:53:14.814697Z",
          "iopub.status.busy": "2023-07-16T14:53:14.813866Z",
          "iopub.status.idle": "2023-07-16T14:53:14.821401Z",
          "shell.execute_reply": "2023-07-16T14:53:14.820296Z"
        },
        "papermill": {
          "duration": 0.032459,
          "end_time": "2023-07-16T14:53:14.823576",
          "exception": false,
          "start_time": "2023-07-16T14:53:14.791117",
          "status": "completed"
        },
        "tags": [],
        "colab": {
          "base_uri": "https://localhost:8080/"
        },
        "id": "e17f98c3",
        "outputId": "6c12d8ed-9d25-4a97-80e6-1d507f67b5b4"
      },
      "outputs": [
        {
          "output_type": "execute_result",
          "data": {
            "text/plain": [
              "(7046,)"
            ]
          },
          "metadata": {},
          "execution_count": 59
        }
      ],
      "source": [
        "y_pred.shape"
      ]
    },
    {
      "cell_type": "code",
      "source": [],
      "metadata": {
        "id": "fpuc0KRILWxf"
      },
      "id": "fpuc0KRILWxf",
      "execution_count": null,
      "outputs": []
    },
    {
      "cell_type": "code",
      "execution_count": null,
      "id": "8fdc619f",
      "metadata": {
        "execution": {
          "iopub.execute_input": "2023-07-16T14:53:14.859315Z",
          "iopub.status.busy": "2023-07-16T14:53:14.858172Z",
          "iopub.status.idle": "2023-07-16T14:53:14.865379Z",
          "shell.execute_reply": "2023-07-16T14:53:14.864555Z"
        },
        "papermill": {
          "duration": 0.028273,
          "end_time": "2023-07-16T14:53:14.867636",
          "exception": false,
          "start_time": "2023-07-16T14:53:14.839363",
          "status": "completed"
        },
        "tags": [],
        "colab": {
          "base_uri": "https://localhost:8080/"
        },
        "id": "8fdc619f",
        "outputId": "f94f55a4-8b90-4359-b5f7-2caa868eb945"
      },
      "outputs": [
        {
          "output_type": "execute_result",
          "data": {
            "text/plain": [
              "array([1., 1., 1., ..., 1., 1., 1.])"
            ]
          },
          "metadata": {},
          "execution_count": 60
        }
      ],
      "source": [
        "y_pred"
      ]
    }
  ],
  "metadata": {
    "kernelspec": {
      "display_name": "Python 3",
      "language": "python",
      "name": "python3"
    },
    "language_info": {
      "codemirror_mode": {
        "name": "ipython",
        "version": 3
      },
      "file_extension": ".py",
      "mimetype": "text/x-python",
      "name": "python",
      "nbconvert_exporter": "python",
      "pygments_lexer": "ipython3",
      "version": "3.10.12"
    },
    "papermill": {
      "default_parameters": {},
      "duration": 26.198238,
      "end_time": "2023-07-16T14:53:15.908611",
      "environment_variables": {},
      "exception": null,
      "input_path": "__notebook__.ipynb",
      "output_path": "__notebook__.ipynb",
      "parameters": {},
      "start_time": "2023-07-16T14:52:49.710373",
      "version": "2.4.0"
    },
    "colab": {
      "provenance": []
    }
  },
  "nbformat": 4,
  "nbformat_minor": 5
}